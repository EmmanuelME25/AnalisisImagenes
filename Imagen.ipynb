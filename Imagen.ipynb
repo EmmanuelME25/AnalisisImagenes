{
 "cells": [
  {
   "cell_type": "markdown",
   "id": "69673203",
   "metadata": {
    "toc": true
   },
   "source": [
    "<h1>Table of Contents<span class=\"tocSkip\"></span></h1>\n",
    "<div class=\"toc\"><ul class=\"toc-item\"><li><span><a href=\"#Análisis-de-imágenes\" data-toc-modified-id=\"Análisis-de-imágenes-1\"><span class=\"toc-item-num\">1&nbsp;&nbsp;</span>Análisis de imágenes</a></span><ul class=\"toc-item\"><li><span><a href=\"#Funciones-para-el-análisis\" data-toc-modified-id=\"Funciones-para-el-análisis-1.1\"><span class=\"toc-item-num\">1.1&nbsp;&nbsp;</span>Funciones para el análisis</a></span><ul class=\"toc-item\"><li><span><a href=\"#Librerias\" data-toc-modified-id=\"Librerias-1.1.1\"><span class=\"toc-item-num\">1.1.1&nbsp;&nbsp;</span>Librerias</a></span></li></ul></li><li><span><a href=\"#Abrir-imágen\" data-toc-modified-id=\"Abrir-imágen-1.2\"><span class=\"toc-item-num\">1.2&nbsp;&nbsp;</span>Abrir imágen</a></span></li><li><span><a href=\"#Escalado-de-imagen\" data-toc-modified-id=\"Escalado-de-imagen-1.3\"><span class=\"toc-item-num\">1.3&nbsp;&nbsp;</span>Escalado de imagen</a></span></li><li><span><a href=\"#Contar-y-remplazar-pixeles\" data-toc-modified-id=\"Contar-y-remplazar-pixeles-1.4\"><span class=\"toc-item-num\">1.4&nbsp;&nbsp;</span>Contar y remplazar pixeles</a></span></li><li><span><a href=\"#Histograma-de-frecuencias-de-color-RGB-por-canal\" data-toc-modified-id=\"Histograma-de-frecuencias-de-color-RGB-por-canal-1.5\"><span class=\"toc-item-num\">1.5&nbsp;&nbsp;</span>Histograma de frecuencias de color RGB por canal</a></span></li><li><span><a href=\"#Escala-de-grises\" data-toc-modified-id=\"Escala-de-grises-1.6\"><span class=\"toc-item-num\">1.6&nbsp;&nbsp;</span>Escala de grises</a></span></li><li><span><a href=\"#Opacidad/Brillo\" data-toc-modified-id=\"Opacidad/Brillo-1.7\"><span class=\"toc-item-num\">1.7&nbsp;&nbsp;</span>Opacidad/Brillo</a></span></li><li><span><a href=\"#Calidez/Frio\" data-toc-modified-id=\"Calidez/Frio-1.8\"><span class=\"toc-item-num\">1.8&nbsp;&nbsp;</span>Calidez/Frio</a></span></li><li><span><a href=\"#Binarización\" data-toc-modified-id=\"Binarización-1.9\"><span class=\"toc-item-num\">1.9&nbsp;&nbsp;</span>Binarización</a></span></li><li><span><a href=\"#Binarizacion-con-dos-umbrales\" data-toc-modified-id=\"Binarizacion-con-dos-umbrales-1.10\"><span class=\"toc-item-num\">1.10&nbsp;&nbsp;</span>Binarizacion con dos umbrales</a></span></li><li><span><a href=\"#Negativo\" data-toc-modified-id=\"Negativo-1.11\"><span class=\"toc-item-num\">1.11&nbsp;&nbsp;</span>Negativo</a></span></li><li><span><a href=\"#Umbral-automático\" data-toc-modified-id=\"Umbral-automático-1.12\"><span class=\"toc-item-num\">1.12&nbsp;&nbsp;</span>Umbral automático</a></span></li><li><span><a href=\"#Aumento-de-iluminación\" data-toc-modified-id=\"Aumento-de-iluminación-1.13\"><span class=\"toc-item-num\">1.13&nbsp;&nbsp;</span>Aumento de iluminación</a></span></li><li><span><a href=\"#Interfaz-de-usuario-expansion-lineal\" data-toc-modified-id=\"Interfaz-de-usuario-expansion-lineal-1.14\"><span class=\"toc-item-num\">1.14&nbsp;&nbsp;</span>Interfaz de usuario expansion lineal</a></span></li><li><span><a href=\"#Bordes\" data-toc-modified-id=\"Bordes-1.15\"><span class=\"toc-item-num\">1.15&nbsp;&nbsp;</span>Bordes</a></span></li><li><span><a href=\"#Bordes-con-interfaz\" data-toc-modified-id=\"Bordes-con-interfaz-1.16\"><span class=\"toc-item-num\">1.16&nbsp;&nbsp;</span>Bordes con interfaz</a></span></li></ul></li></ul></div>"
   ]
  },
  {
   "cell_type": "markdown",
   "id": "612bab5d",
   "metadata": {},
   "source": [
    "## Análisis de imágenes"
   ]
  },
  {
   "cell_type": "markdown",
   "id": "ef4c2487",
   "metadata": {},
   "source": [
    "### Funciones para el análisis"
   ]
  },
  {
   "cell_type": "markdown",
   "id": "5bc9e955",
   "metadata": {},
   "source": [
    "#### Librerias "
   ]
  },
  {
   "cell_type": "code",
   "execution_count": 1,
   "id": "41bbd2de",
   "metadata": {
    "ExecuteTime": {
     "end_time": "2023-12-04T16:57:47.149607Z",
     "start_time": "2023-12-04T16:57:46.325618Z"
    }
   },
   "outputs": [],
   "source": [
    "import tkinter as tk\n",
    "from tkinter import *\n",
    "import numpy as np\n",
    "import matplotlib.pyplot as plt\n",
    "import ipywidgets as widgets\n",
    "from tkinter import filedialog\n",
    "from PIL import Image, ImageTk, ImageFilter\n",
    "from ipywidgets import interact, interactive\n",
    "from IPython.display import display\n",
    "from matplotlib import image as mpimg\n",
    "from skimage.color import rgb2lab, lab2rgb"
   ]
  },
  {
   "cell_type": "markdown",
   "id": "f0843cca",
   "metadata": {},
   "source": [
    "### Abrir imágen"
   ]
  },
  {
   "cell_type": "code",
   "execution_count": null,
   "id": "6d242339",
   "metadata": {
    "ExecuteTime": {
     "end_time": "2023-12-03T23:47:28.562598Z",
     "start_time": "2023-12-03T23:47:28.557484Z"
    },
    "code_folding": []
   },
   "outputs": [],
   "source": [
    "def abrir_imagen():\n",
    "    try:\n",
    "        tipos_archivo = [(\"Imágenes\", (\"*.jpg\", \"*.jpeg\", \"*.png\", \"*.bmp\"))]\n",
    "        archivo = filedialog.askopenfilename(filetypes=tipos_archivo)\n",
    "\n",
    "        if not archivo:\n",
    "            return None\n",
    "\n",
    "        imagen = Image.open(archivo)\n",
    "        return imagen\n",
    "\n",
    "    except Exception as e:\n",
    "        print(\"Error al abrir la imagen:\", str(e))\n",
    "        return None"
   ]
  },
  {
   "cell_type": "code",
   "execution_count": null,
   "id": "e8780b3c",
   "metadata": {
    "ExecuteTime": {
     "end_time": "2023-12-03T23:47:32.102060Z",
     "start_time": "2023-12-03T23:47:29.106734Z"
    }
   },
   "outputs": [],
   "source": [
    "imagen = abrir_imagen()\n",
    "\n",
    "if imagen:\n",
    "    plt.imshow(imagen)\n",
    "    plt.axis('off')\n",
    "    plt.show()"
   ]
  },
  {
   "cell_type": "markdown",
   "id": "a5748bed",
   "metadata": {},
   "source": [
    "### Escalado de imagen"
   ]
  },
  {
   "cell_type": "code",
   "execution_count": null,
   "id": "0ca469ae",
   "metadata": {},
   "outputs": [],
   "source": [
    "def escalar_imagen(imagen, escala_ancho, escala_alto):\n",
    "    ancho_original, alto_original = imagen.size\n",
    "\n",
    "    nuevo_ancho = int(ancho_original * escala_ancho)\n",
    "    nuevo_alto = int(alto_original * escala_alto)\n",
    "\n",
    "    imagen_escala = imagen.resize((nuevo_ancho, nuevo_alto), Image.LANCZOS)\n",
    "\n",
    "    return imagen_escala"
   ]
  },
  {
   "cell_type": "code",
   "execution_count": null,
   "id": "7daf3c83",
   "metadata": {},
   "outputs": [],
   "source": [
    "imagen_escalada = escalar_imagen(imagen, 0.5, 0.5)  \n",
    "\n",
    "plt.imshow(imagen_escalada)\n",
    "plt.axis('off')\n",
    "plt.show()\n",
    "\n",
    "imagen_escalada.show()"
   ]
  },
  {
   "cell_type": "markdown",
   "id": "e906a480",
   "metadata": {},
   "source": [
    "### Contar y remplazar pixeles"
   ]
  },
  {
   "cell_type": "code",
   "execution_count": null,
   "id": "791c372c",
   "metadata": {},
   "outputs": [],
   "source": [
    "def contar_y_reemplazar_pixeles(imagen, valor_original, valor_nuevo):\n",
    "    contador = 0\n",
    "    imagen_actualizada = imagen.copy()\n",
    "\n",
    "    for x in range(imagen_actualizada.width):\n",
    "        for y in range(imagen_actualizada.height):\n",
    "            pixel = imagen_actualizada.getpixel((x, y))\n",
    "\n",
    "            if pixel == valor_original:\n",
    "                contador += 1\n",
    "                imagen_actualizada.putpixel((x, y), valor_nuevo)\n",
    "\n",
    "    return contador, imagen_actualizada"
   ]
  },
  {
   "cell_type": "code",
   "execution_count": null,
   "id": "eee0370c",
   "metadata": {},
   "outputs": [],
   "source": [
    "valor_original = (88, 111, 7)  \n",
    "valor_nuevo = (255, 1, 222) "
   ]
  },
  {
   "cell_type": "code",
   "execution_count": null,
   "id": "13999082",
   "metadata": {},
   "outputs": [],
   "source": [
    "num_coincidencias, imagen_actualizada = contar_y_reemplazar_pixeles(imagen, valor_original, valor_nuevo)\n",
    "print(\"Número de coincidencias:\", num_coincidencias)\n",
    "imagen_actualizada.show()"
   ]
  },
  {
   "cell_type": "markdown",
   "id": "ee3de13d",
   "metadata": {},
   "source": [
    "### Histograma de frecuencias de color RGB por canal"
   ]
  },
  {
   "cell_type": "code",
   "execution_count": null,
   "id": "208ecec0",
   "metadata": {},
   "outputs": [],
   "source": [
    "def calcular_histogramas(imagen):\n",
    "    # Convertir la imagen a modo RGB\n",
    "    imagen_rgb = imagen.convert('RGB')\n",
    "\n",
    "    # Obtener los canales R, G y B\n",
    "    r, g, b = imagen_rgb.split()\n",
    "\n",
    "    # Calcular los histogramas\n",
    "    hist_r, bins_r = np.histogram(np.array(r).ravel(), bins=256, range=[0, 256])\n",
    "    hist_g, bins_g = np.histogram(np.array(g).ravel(), bins=256, range=[0, 256])\n",
    "    hist_b, bins_b = np.histogram(np.array(b).ravel(), bins=256, range=[0, 256])\n",
    "\n",
    "    return hist_r, hist_g, hist_b, bins_r\n",
    "\n",
    "def mostrar_histogramas(hist_r, hist_g, hist_b, bins_r):\n",
    "    plt.figure(figsize=(12, 6))\n",
    "\n",
    "    plt.plot(bins_r[:-1], hist_r, color='red', label='Rojo')\n",
    "    plt.plot(bins_r[:-1], hist_g, color='green', label='Verde')\n",
    "    plt.plot(bins_r[:-1], hist_b, color='blue', label='Azul')\n",
    "\n",
    "    plt.title('Histograma de Color RGB')\n",
    "    plt.xlim([0, 256])\n",
    "    plt.xlabel('Valor del píxel')\n",
    "    plt.ylabel('Frecuencia')\n",
    "    plt.legend(loc='upper right')\n",
    "    plt.show()"
   ]
  },
  {
   "cell_type": "code",
   "execution_count": null,
   "id": "2be24424",
   "metadata": {},
   "outputs": [],
   "source": [
    "#Calcular histogramas\n",
    "hist_r, hist_g, hist_b, bins_r = calcular_histogramas(imagen)\n",
    "\n",
    "#Mostrar histogramas\n",
    "mostrar_histogramas(hist_r, hist_g, hist_b, bins_r)"
   ]
  },
  {
   "cell_type": "markdown",
   "id": "268e1f2b",
   "metadata": {},
   "source": [
    "### Escala de grises"
   ]
  },
  {
   "cell_type": "code",
   "execution_count": null,
   "id": "49f05aec",
   "metadata": {
    "ExecuteTime": {
     "end_time": "2023-11-15T04:55:22.691145Z",
     "start_time": "2023-11-15T04:55:22.680084Z"
    }
   },
   "outputs": [],
   "source": [
    "def escala_de_grises(imagen):\n",
    "    img = imagen.copy()  # Copia la imagen original para no modificarla directamente\n",
    "\n",
    "    for i in range(img.size[0]):\n",
    "        for j in range(img.size[1]):\n",
    "            r, g, b = img.getpixel((i, j))\n",
    "            gris = int((r + g + b) / 3)\n",
    "            pixel = (gris, gris, gris)\n",
    "            img.putpixel((i, j), pixel)\n",
    "\n",
    "    return img\n",
    "        \n",
    "def histgrises(imagen):\n",
    "    img_gris = imagen.convert('L')  # Convierte la imagen a escala de grises\n",
    "    hist, bins = np.histogram(img_gris.getdata(), bins=256, range=[0, 256])\n",
    "    \n",
    "    return hist\n",
    "    # Mostrar el histograma en escala de grises\n",
    "    plt.figure()\n",
    "    plt.title('Histograma en escala de grises')\n",
    "    plt.xlabel('Nivel de gris')\n",
    "    plt.ylabel('Frecuencia')\n",
    "    plt.plot(hist, color='gray')\n",
    "    plt.xlim([0, 256])\n",
    "    plt.show()\n",
    "    \n",
    "def histgrisesgraf(imagen):\n",
    "    img_gris = imagen.convert('L')  # Convierte la imagen a escala de grises\n",
    "    hist, bins = np.histogram(img_gris.getdata(), bins=256, range=[0, 256])\n",
    "    \n",
    "    # Mostrar el histograma en escala de grises\n",
    "    plt.figure()\n",
    "    plt.title('Histograma en escala de grises')\n",
    "    plt.xlabel('Nivel de gris')\n",
    "    plt.ylabel('Frecuencia')\n",
    "    plt.plot(hist, color='gray')\n",
    "    plt.xlim([0, 256])\n",
    "    plt.show()\n",
    "    "
   ]
  },
  {
   "cell_type": "code",
   "execution_count": null,
   "id": "4cb6c0b3",
   "metadata": {
    "ExecuteTime": {
     "end_time": "2023-11-15T04:54:27.274421Z",
     "start_time": "2023-11-15T04:54:26.961274Z"
    },
    "scrolled": true
   },
   "outputs": [],
   "source": [
    "gris = escala_de_grises(imagen)\n",
    "\n",
    "plt.imshow(gris)\n",
    "plt.axis('off')\n",
    "plt.show()"
   ]
  },
  {
   "cell_type": "code",
   "execution_count": null,
   "id": "e710045f",
   "metadata": {
    "ExecuteTime": {
     "end_time": "2023-11-15T04:56:57.807316Z",
     "start_time": "2023-11-15T04:56:57.754575Z"
    }
   },
   "outputs": [],
   "source": [
    "histg = histgrises(gris)"
   ]
  },
  {
   "cell_type": "code",
   "execution_count": null,
   "id": "069222b7",
   "metadata": {
    "ExecuteTime": {
     "end_time": "2023-11-15T04:55:28.369408Z",
     "start_time": "2023-11-15T04:55:28.261474Z"
    }
   },
   "outputs": [],
   "source": [
    "histgrisesgraf(gris)"
   ]
  },
  {
   "cell_type": "markdown",
   "id": "74454b2a",
   "metadata": {},
   "source": [
    "### Opacidad/Brillo"
   ]
  },
  {
   "cell_type": "code",
   "execution_count": null,
   "id": "a9c02693",
   "metadata": {},
   "outputs": [],
   "source": [
    "def brillo(imagen,m):\n",
    "    img = imagen\n",
    "    for i in range(img.size[0]):\n",
    "        for j in range(img.size[1]):\n",
    "            r, g, b = img.getpixel((i, j))\n",
    "            gris = int((r + g + b) / 3)\n",
    "            ngris = max(0, min(255, gris + m))\n",
    "            pixel = (ngris, ngris, ngris)\n",
    "            img.putpixel((i, j), pixel)\n",
    "    return img"
   ]
  },
  {
   "cell_type": "code",
   "execution_count": null,
   "id": "4b4e4ee4",
   "metadata": {},
   "outputs": [],
   "source": [
    "brillo=brillo(imagen, 100)\n",
    "plt.imshow(brillo)\n",
    "plt.axis('off')\n",
    "plt.show()"
   ]
  },
  {
   "cell_type": "code",
   "execution_count": null,
   "id": "ca549785",
   "metadata": {},
   "outputs": [],
   "source": [
    "histgrises(brillo)"
   ]
  },
  {
   "cell_type": "markdown",
   "id": "73c0db0f",
   "metadata": {},
   "source": [
    "### Calidez/Frio"
   ]
  },
  {
   "cell_type": "code",
   "execution_count": null,
   "id": "86bcf10d",
   "metadata": {},
   "outputs": [],
   "source": [
    "def ajustar_calidez_frio_manual(imagen, balance=0.0):\n",
    "    img = imagen\n",
    "\n",
    "    img_array = np.array(img)\n",
    "\n",
    "    img_array[:, :, 0] = np.clip(img_array[:, :, 0] + balance, 0, 255)  \n",
    "    img_array[:, :, 2] = np.clip(img_array[:, :, 2] - balance, 0, 255)  \n",
    "\n",
    "    img_ajustada = Image.fromarray(np.uint8(img_array))\n",
    "    return img_ajustada"
   ]
  },
  {
   "cell_type": "code",
   "execution_count": null,
   "id": "743fc0b6",
   "metadata": {},
   "outputs": [],
   "source": [
    "imgbalance = ajustar_calidez_frio(imagen, balance=20)  \n",
    "plt.imshow(imgbalance)\n",
    "plt.axis('off')\n",
    "plt.show()"
   ]
  },
  {
   "cell_type": "markdown",
   "id": "e3185370",
   "metadata": {},
   "source": [
    "### Binarización"
   ]
  },
  {
   "cell_type": "code",
   "execution_count": null,
   "id": "1f67bd89",
   "metadata": {},
   "outputs": [],
   "source": [
    "def binarizar_imagen(imagen, threshold):\n",
    "    gray_img = imagen.convert('L')\n",
    "    \n",
    "    binary_img = gray_img.point(lambda p: p > threshold * 255 and 255)\n",
    "\n",
    "    plt.imshow(binary_img, cmap='gray')\n",
    "    plt.axis('off')\n",
    "    plt.show()"
   ]
  },
  {
   "cell_type": "code",
   "execution_count": null,
   "id": "2cb9d9b2",
   "metadata": {},
   "outputs": [],
   "source": [
    "threshold_slider = widgets.FloatSlider(value=0.0, min=0, max=1.0, step=0.01, description='Umbral:')\n",
    "interact(binarizar_imagen, imagen=widgets.fixed(imagen), threshold=threshold_slider)"
   ]
  },
  {
   "cell_type": "markdown",
   "id": "1fc9b0d5",
   "metadata": {},
   "source": [
    "### Binarizacion con dos umbrales"
   ]
  },
  {
   "cell_type": "code",
   "execution_count": null,
   "id": "fba7d9b0",
   "metadata": {},
   "outputs": [],
   "source": [
    "def binarizar_imagen(imagen, umbral1, umbral2):\n",
    "    gray_img = imagen.convert('L')\n",
    "    \n",
    "    binary_img = gray_img.point(lambda p: 0 if p < umbral1 * 255 or p < umbral2 * 255 else 255)\n",
    "\n",
    "    plt.imshow(binary_img, cmap='gray')\n",
    "    plt.axis('off')\n",
    "    plt.show()"
   ]
  },
  {
   "cell_type": "code",
   "execution_count": null,
   "id": "70a447b5",
   "metadata": {},
   "outputs": [],
   "source": [
    "umbral1_slider = widgets.FloatSlider(value=0.0, min=0, max=1.0, step=0.01, description='Umbral 1:')\n",
    "umbral2_slider = widgets.FloatSlider(value=1.0, min=0, max=1.0, step=0.01, description='Umbral 2:')\n",
    "interact(binarizar_imagen, imagen=widgets.fixed(imagen), umbral1=umbral1_slider, umbral2=umbral2_slider)"
   ]
  },
  {
   "cell_type": "markdown",
   "id": "de7ead06",
   "metadata": {},
   "source": [
    "### Negativo "
   ]
  },
  {
   "cell_type": "code",
   "execution_count": null,
   "id": "7b39d8d3",
   "metadata": {},
   "outputs": [],
   "source": [
    "def negativo(imagen):\n",
    "    img = imagen\n",
    "    for i in range(img.size[0]):\n",
    "        for j in range(img.size[1]):\n",
    "            r, g, b = img.getpixel((i, j))\n",
    "            r1= 255-r\n",
    "            g1=255-g\n",
    "            b1=255-b\n",
    "            pixel = tuple([r1,g1,b1])\n",
    "            img.putpixel((i,j),pixel)\n",
    "    return img"
   ]
  },
  {
   "cell_type": "code",
   "execution_count": null,
   "id": "918001e0",
   "metadata": {},
   "outputs": [],
   "source": [
    "negativo = negativo(imagen)\n",
    "\n",
    "plt.imshow(negativo)\n",
    "plt.axis('off')\n",
    "plt.show()"
   ]
  },
  {
   "cell_type": "markdown",
   "id": "36f38596",
   "metadata": {},
   "source": [
    "### Umbral automático"
   ]
  },
  {
   "cell_type": "code",
   "execution_count": null,
   "id": "6c511e68",
   "metadata": {},
   "outputs": [],
   "source": [
    "def metodoIterativo(histograma):\n",
    "    def calcularUmbralInicial(histograma):\n",
    "        numPixels = 0\n",
    "        suma = 0\n",
    "        for x in range(len(histograma)):\n",
    "            numPixels += histograma[x]\n",
    "            suma += histograma[x] * x\n",
    "        return int(suma / numPixels)\n",
    "\n",
    "    def reajustarUmbral(ui, histograma):\n",
    "        a1, a2 = 0, 0\n",
    "        n1, n2 = 0, 0\n",
    "        a1 += histograma[0]\n",
    "        for x in range(1, ui):\n",
    "            a1 += histograma[x] * x\n",
    "            n1 += histograma[x]\n",
    "        for y in range(ui, 256):\n",
    "            a2 += histograma[y] * y\n",
    "            n2 += histograma[y]\n",
    "        if n1 == 0 or n2 == 0:\n",
    "            return 0\n",
    "        u1 = a1 / n1\n",
    "        u2 = a2 / n2\n",
    "        return int((u1 + u2) / 2)\n",
    "\n",
    "    ui = calcularUmbralInicial(histograma)\n",
    "    uNuevo = 0\n",
    "    print(ui)\n",
    "    while uNuevo != ui:\n",
    "        uNuevo = ui\n",
    "        ui = reajustarUmbral(ui, histograma)\n",
    "        print(ui)\n",
    "\n",
    "    return ui\n",
    "\n",
    "def otsu(histograma):\n",
    "    total = sum(histograma)\n",
    "    top = 256\n",
    "    sumaBB = 0\n",
    "    wB = 0\n",
    "    maximo = 0.0\n",
    "    wF = 0\n",
    "    mF = 0\n",
    "    valor = 0.0\n",
    "    umbral = 0\n",
    "    suma1 = 0\n",
    "    rango = list(range(top))\n",
    "\n",
    "    for i in range(len(histograma)):\n",
    "        suma1 += rango[i] * histograma[i]\n",
    "\n",
    "    for i in range(1, top):\n",
    "        wF = total - wB\n",
    "\n",
    "        if wB > 0 and wF > 0:\n",
    "            mF = (suma1 - sumaBB) / wF\n",
    "            valor = wB * wF * ((sumaBB / wB) - mF) * ((sumaBB / wB) - mF)\n",
    "\n",
    "            if valor >= maximo:\n",
    "                umbral = i\n",
    "                maximo = valor\n",
    "\n",
    "        wB += int(histograma[i])\n",
    "        sumaBB += (i - 1) * int(histograma[i])\n",
    "\n",
    "    return umbral"
   ]
  },
  {
   "cell_type": "code",
   "execution_count": null,
   "id": "36cdc512",
   "metadata": {},
   "outputs": [],
   "source": [
    "imgg = escala_de_grises(imagen)\n",
    "\n",
    "image_array = np.array(imgg)\n",
    "\n",
    "histogram = np.histogram(image_array, bins=256, range=(0, 256))[0]\n",
    "\n",
    "# Llamar a las funciones proporcionadas (metodoIterativo y otsu) con el histograma\n",
    "umbral_metodo_iterativo = metodoIterativo(histogram)\n",
    "umbral_otsu = otsu(histogram)\n",
    "\n",
    "# Imprimir los umbrales calculados\n",
    "print(\"Umbral Método Iterativo:\", umbral_metodo_iterativo)\n",
    "print(\"Umbral Otsu:\", umbral_otsu)"
   ]
  },
  {
   "cell_type": "markdown",
   "id": "10a17cb1",
   "metadata": {},
   "source": [
    "### Aumento de iluminación"
   ]
  },
  {
   "cell_type": "code",
   "execution_count": null,
   "id": "76e91c35",
   "metadata": {},
   "outputs": [],
   "source": [
    "def histogram_shift_with_gap(image, j, k):\n",
    "    image_array = np.array(image)\n",
    "\n",
    "    hist, _ = np.histogram(image_array, bins=256, range=(0, 256))\n",
    "\n",
    "    cumulative_sum = 0\n",
    "    for i in range(j, j+k):\n",
    "        cumulative_sum += hist[i]\n",
    "        if cumulative_sum > 255:\n",
    "            cumulative_sum = 255\n",
    "        hist[i] = cumulative_sum\n",
    "\n",
    "    shifted_image_array = np.copy(image_array)\n",
    "    shifted_image_array = np.where((shifted_image_array >= j), shifted_image_array + k, shifted_image_array)\n",
    "\n",
    "    shifted_image = Image.fromarray(shifted_image_array) \n",
    "\n",
    "    return shifted_image"
   ]
  },
  {
   "cell_type": "code",
   "execution_count": null,
   "id": "148757b8",
   "metadata": {},
   "outputs": [],
   "source": [
    "imgg = escala_de_grises(imagen)\n",
    "\n",
    "j = 150\n",
    "k = 50  \n",
    "\n",
    "shifted_image = histogram_shift_with_gap(imgg, j, k)\n",
    "\n",
    "plt.imshow(shifted_image)\n",
    "plt.axis('off')\n",
    "plt.show()"
   ]
  },
  {
   "cell_type": "code",
   "execution_count": null,
   "id": "f035694b",
   "metadata": {},
   "outputs": [],
   "source": [
    "hist, _ = np.histogram(np.array(shifted_image), bins=256, range=(0, 256))\n",
    "\n",
    "plt.plot(hist, color='black')\n",
    "plt.title('Histograma Desplazado')\n",
    "plt.xlabel('Niveles de Gris')\n",
    "plt.ylabel('Frecuencia')\n",
    "\n",
    "plt.show()"
   ]
  },
  {
   "cell_type": "markdown",
   "id": "c518a5ba",
   "metadata": {},
   "source": [
    "### Interfaz de usuario expansion lineal "
   ]
  },
  {
   "cell_type": "code",
   "execution_count": null,
   "id": "aa8c58fb",
   "metadata": {
    "ExecuteTime": {
     "end_time": "2023-12-03T22:43:36.834252Z",
     "start_time": "2023-12-03T22:43:36.829971Z"
    },
    "code_folding": []
   },
   "outputs": [],
   "source": [
    "imagen_c = None\n",
    "imagen_color = None\n",
    "imagen_expandida = None\n",
    "\n",
    "def abrir_imagen():\n",
    "    global imagen_color, imagen_gris\n",
    "\n",
    "    try:\n",
    "        tipos_archivo = [(\"Imágenes\", (\"*.jpg\", \"*.jpeg\", \"*.png\", \"*.bmp\"))]\n",
    "        archivo = filedialog.askopenfilename(filetypes=tipos_archivo)\n",
    "\n",
    "        if not archivo:\n",
    "            return None\n",
    "\n",
    "        imagen_color = Image.open(archivo)\n",
    "\n",
    "\n",
    "        imagen_c = ImageTk.PhotoImage(imagen_color)\n",
    "\n",
    "        label_imagen.config(image=imagen_c)\n",
    "        label_imagen.image = imagen_c\n",
    "        imagen_c = imagen_color\n",
    "\n",
    "    except Exception as e:\n",
    "        print(\"Error al abrir la imagen:\", str(e))"
   ]
  },
  {
   "cell_type": "code",
   "execution_count": null,
   "id": "64d4cc24",
   "metadata": {
    "ExecuteTime": {
     "end_time": "2023-12-03T22:43:37.521933Z",
     "start_time": "2023-12-03T22:43:37.516444Z"
    }
   },
   "outputs": [],
   "source": [
    "def generaExpansionLinealColor(imagen_file, rs_min, rs_max):\n",
    "    if imagen_file is None:\n",
    "        return None\n",
    "\n",
    "    imagen_pil = Image.open(imagen_file)\n",
    "\n",
    "    for x in range(imagen_pil.width):\n",
    "        for y in range(imagen_pil.height):\n",
    "            r, g, b = imagen_pil.getpixel((x, y))\n",
    "\n",
    "            r = validar((r - rs_min[0]) * (255 / (rs_max[0] - rs_min[0])))\n",
    "            g = validar((g - rs_min[1]) * (255 / (rs_max[1] - rs_min[1])))\n",
    "            b = validar((b - rs_min[2]) * (255 / (rs_max[2] - rs_min[2])))\n",
    "\n",
    "            imagen_pil.putpixel((x, y), (r, g, b))\n",
    "\n",
    "    imagen_expandida = ImageTk.PhotoImage(imagen_pil)\n",
    "    return imagen_expandida\n",
    "\n",
    "def validar(valor):\n",
    "    return min(255, max(0, int(valor)))"
   ]
  },
  {
   "cell_type": "code",
   "execution_count": null,
   "id": "588ab0cf",
   "metadata": {
    "ExecuteTime": {
     "end_time": "2023-12-03T22:43:38.194853Z",
     "start_time": "2023-12-03T22:43:38.189412Z"
    },
    "code_folding": []
   },
   "outputs": [],
   "source": [
    "def obtener_valores_y_aplicar_expansion():\n",
    "    global imagen_expandida\n",
    "\n",
    "    rs_min = (r1.get(), v1.get(), a1.get())\n",
    "    rs_max = (r2.get(), v2.get(), a2.get())\n",
    "\n",
    "    imagen_expandida = generaExpansionLinealColor(imagen_color.filename, rs_min, rs_max)\n",
    "\n",
    "    if imagen_expandida is not None:\n",
    "        label_imagen_expansion.config(image=imagen_expandida)\n",
    "        label_imagen_expansion.image = imagen_expandida"
   ]
  },
  {
   "cell_type": "code",
   "execution_count": null,
   "id": "db34c2eb",
   "metadata": {
    "ExecuteTime": {
     "end_time": "2023-12-03T22:49:22.893783Z",
     "start_time": "2023-12-03T22:46:58.605100Z"
    }
   },
   "outputs": [],
   "source": [
    "ventana = tk.Tk()\n",
    "ventana.title(\"Expansion lineal\")\n",
    "\n",
    "r1 = tk.IntVar()\n",
    "r2 = tk.IntVar()\n",
    "v1 = tk.IntVar()\n",
    "v2 = tk.IntVar()\n",
    "a1 = tk.IntVar()\n",
    "a2 = tk.IntVar()\n",
    "\n",
    "boton1 = tk.Button(ventana, text=\"Abrir imagen\", command=abrir_imagen)\n",
    "boton1.grid(column=1, row=0)\n",
    "\n",
    "# Imagen en escala de grises\n",
    "label_imagen = tk.Label(ventana)\n",
    "label_imagen.grid(row=0, column=0)\n",
    "\n",
    "# Imagen con expansión lineal\n",
    "label_imagen_expansion = tk.Label(ventana)\n",
    "label_imagen_expansion.grid(row=0, column=2)\n",
    "\n",
    "# Rojo\n",
    "scaleg1 = tk.Scale(ventana, variable=r1, from_=0, to=255, orient=tk.HORIZONTAL)\n",
    "scaleg1.grid(column=0, row=1)\n",
    "scaleg2 = tk.Scale(ventana, variable=r2, from_=1, to=255, orient=tk.HORIZONTAL)\n",
    "scaleg2.grid(column=0, row=2)\n",
    "\n",
    "# Verde\n",
    "scaleg3 = tk.Scale(ventana, variable=v1, from_=0, to=255, orient=tk.HORIZONTAL)\n",
    "scaleg3.grid(column=1, row=1)\n",
    "scaleg4 = tk.Scale(ventana, variable=v2, from_=1, to=255, orient=tk.HORIZONTAL)\n",
    "scaleg4.grid(column=1, row=2)\n",
    "\n",
    "# Azul\n",
    "scaleg5 = tk.Scale(ventana, variable=a1, from_=0, to=255, orient=tk.HORIZONTAL)\n",
    "scaleg5.grid(column=2, row=1)\n",
    "scaleg6 = tk.Scale(ventana, variable=a2, from_=1, to=255, orient=tk.HORIZONTAL)\n",
    "scaleg6.grid(column=2, row=2)\n",
    "\n",
    "boton2 = tk.Button(ventana, text=\"Expansion lineal\", command=obtener_valores_y_aplicar_expansion)\n",
    "boton2.grid(column=1, row=3)\n",
    "\n",
    "ventana.mainloop()"
   ]
  },
  {
   "cell_type": "markdown",
   "id": "3359c72f",
   "metadata": {},
   "source": [
    "### Bordes"
   ]
  },
  {
   "cell_type": "code",
   "execution_count": null,
   "id": "51dbd8ef",
   "metadata": {
    "ExecuteTime": {
     "end_time": "2023-12-03T23:57:10.970177Z",
     "start_time": "2023-12-03T23:57:10.959245Z"
    }
   },
   "outputs": [],
   "source": [
    "class Convolucion:\n",
    "    def __init__(self, imagen_original):\n",
    "        self.imagen_original = imagen_original\n",
    "\n",
    "    def convolucionar(self, mascara, div):\n",
    "        aux = Image.new('RGB', (self.imagen_original.width, self.imagen_original.height))\n",
    "\n",
    "        for x in range(self.imagen_original.width):\n",
    "            for y in range(self.imagen_original.height):\n",
    "                rgb = self.convolucionar_pixel(x, y, mascara, div)\n",
    "                nuevo = rgb\n",
    "                aux.putpixel((x, y), nuevo)\n",
    "\n",
    "        return aux\n",
    "\n",
    "    def convolucionar_pixel(self, x, y, mascara, div):\n",
    "        a_r, a_g, a_b = 0, 0, 0\n",
    "        rgb = self.imagen_original.getpixel((x, y))\n",
    "\n",
    "        for j in range(len(mascara)):\n",
    "            rgb_vecino = self.obtener_rgb(x, y, j)\n",
    "            if rgb_vecino != 0:\n",
    "                r, g, b = rgb_vecino\n",
    "                a_r += r * mascara[j]\n",
    "                a_g += g * mascara[j]\n",
    "                a_b += b * mascara[j]\n",
    "\n",
    "        a_r //= div\n",
    "        a_g //= div\n",
    "        a_b //= div\n",
    "\n",
    "        return (a_r, a_g, a_b)\n",
    "\n",
    "    def obtener_rgb(self, x, y, j):\n",
    "        rgb = 0\n",
    "        try:\n",
    "            switch = {\n",
    "                0: (x - 1, y - 1),\n",
    "                1: (x - 1, y),\n",
    "                2: (x - 1, y + 1),\n",
    "                3: (x, y - 1),\n",
    "                4: (x, y),\n",
    "                5: (x, y + 1),\n",
    "                6: (x + 1, y - 1),\n",
    "                7: (x + 1, y),\n",
    "                8: (x + 1, y + 1),\n",
    "            }\n",
    "            pos = switch.get(j, (0, 0))\n",
    "            x_pos, y_pos = pos\n",
    "            if (0 <= x_pos < self.imagen_original.width) and (0 <= y_pos < self.imagen_original.height):\n",
    "                rgb = self.imagen_original.getpixel((x_pos, y_pos))\n",
    "        except Exception as e:\n",
    "            print(e)\n",
    "\n",
    "        return rgb if isinstance(rgb, tuple) else (0, 0, 0)"
   ]
  },
  {
   "cell_type": "code",
   "execution_count": null,
   "id": "414b23a5",
   "metadata": {
    "ExecuteTime": {
     "end_time": "2023-12-03T23:58:20.654627Z",
     "start_time": "2023-12-03T23:58:14.502169Z"
    }
   },
   "outputs": [],
   "source": [
    "convolucion = Convolucion(imagen)\n",
    "nueva_imagen = convolucion.convolucionar([0, 1, 0, 1, -4, 1, 0, 1, 0], 3)\n",
    "\n",
    "plt.imshow(nueva_imagen)\n",
    "plt.axis('off')\n",
    "plt.show()"
   ]
  },
  {
   "cell_type": "markdown",
   "id": "39de933c",
   "metadata": {},
   "source": [
    "### Bordes con interfaz"
   ]
  },
  {
   "cell_type": "code",
   "execution_count": 2,
   "id": "9726ea81",
   "metadata": {
    "ExecuteTime": {
     "end_time": "2023-12-04T16:57:50.251392Z",
     "start_time": "2023-12-04T16:57:50.245388Z"
    },
    "code_folding": []
   },
   "outputs": [],
   "source": [
    "imagen_color = None\n",
    "imagen_expandida = None\n",
    "\n",
    "def abrir_imagen():\n",
    "    global imagen_color\n",
    "\n",
    "    try:\n",
    "        tipos_archivo = [(\"Imágenes\", (\"*.jpg\", \"*.jpeg\", \"*.png\", \"*.bmp\"))]\n",
    "        archivo = filedialog.askopenfilename(filetypes=tipos_archivo)\n",
    "\n",
    "        if not archivo:\n",
    "            return None\n",
    "\n",
    "        imagen_color = Image.open(archivo)\n",
    "\n",
    "        imagen_c = ImageTk.PhotoImage(imagen_color)\n",
    "\n",
    "        label_imagen.config(image=imagen_c)\n",
    "        label_imagen.image = imagen_c\n",
    "\n",
    "    except Exception as e:\n",
    "        print(\"Error al abrir la imagen:\", str(e))"
   ]
  },
  {
   "cell_type": "code",
   "execution_count": 3,
   "id": "6702002d",
   "metadata": {
    "ExecuteTime": {
     "end_time": "2023-12-04T16:57:51.037403Z",
     "start_time": "2023-12-04T16:57:51.027807Z"
    },
    "code_folding": [
     19
    ]
   },
   "outputs": [],
   "source": [
    "class Convolucion:\n",
    "    def __init__(self, imagen_original, offset=1, divisor=1):\n",
    "        self.imagen_original = Image.open(imagen_original)\n",
    "        self.offset = offset\n",
    "        self.divisor = divisor\n",
    "\n",
    "    def convolucionar(self, mascara):\n",
    "        if self.imagen_original is None:\n",
    "            print(\"Error: La imagen original es None.\")\n",
    "            return None\n",
    "\n",
    "        aux = Image.new('RGB', (self.imagen_original.width, self.imagen_original.height))\n",
    "\n",
    "        for x in range(self.imagen_original.width):\n",
    "            for y in range(self.imagen_original.height):\n",
    "                rgb = self.convolucionar_pixel(x, y, mascara)\n",
    "                nuevo = rgb\n",
    "                aux.putpixel((x, y), nuevo)\n",
    "\n",
    "        return aux\n",
    "\n",
    "    def convolucionar_pixel(self, x, y, mascara):\n",
    "        a_r, a_g, a_b = 0, 0, 0\n",
    "        rgb = self.imagen_original.getpixel((x, y))\n",
    "\n",
    "        for i in range(len(mascara)):\n",
    "            for j in range(len(mascara[0])):\n",
    "                rgb_vecino = self.obtener_rgb(x, y, i, j)\n",
    "                if rgb_vecino != 0:\n",
    "                    r, g, b = rgb_vecino\n",
    "                    a_r += r * mascara[i][j]\n",
    "                    a_g += g * mascara[i][j]\n",
    "                    a_b += b * mascara[i][j]\n",
    "\n",
    "        a_r //= self.divisor\n",
    "        a_g //= self.divisor\n",
    "        a_b //= self.divisor\n",
    "\n",
    "        return (a_r, a_g, a_b)\n",
    "\n",
    "    def obtener_rgb(self, x, y, i, j):\n",
    "        rgb = 0\n",
    "        try:\n",
    "            x_pos, y_pos = x - self.offset + i, y - self.offset + j\n",
    "            if (0 <= x_pos < self.imagen_original.width) and (0 <= y_pos < self.imagen_original.height):\n",
    "                rgb = self.imagen_original.getpixel((x_pos, y_pos))\n",
    "        except Exception as e:\n",
    "            print(e)\n",
    "\n",
    "        return rgb if isinstance(rgb, tuple) else (0, 0, 0)"
   ]
  },
  {
   "cell_type": "code",
   "execution_count": 4,
   "id": "774074a6",
   "metadata": {
    "ExecuteTime": {
     "end_time": "2023-12-04T16:57:52.724751Z",
     "start_time": "2023-12-04T16:57:52.715550Z"
    }
   },
   "outputs": [],
   "source": [
    "def obtener_valores_y_aplicar_convolusion():\n",
    "    mascara_bordes = [\n",
    "        [-1, -1, -1, -1, -1],\n",
    "        [-1, -1, -1, -1, -1],\n",
    "        [-1, -1, 24, -1, -1],\n",
    "        [-1, -1, -1, -1, -1],\n",
    "        [-1, -1, -1, -1, -1]\n",
    "    ]\n",
    "    divisor_bordes = int(div.get())\n",
    "    offset_personalizado = int(offset.get())\n",
    "\n",
    "    convolucionador = Convolucion(imagen_color.filename, offset_personalizado, divisor_bordes)\n",
    "    imagen_resultante = convolucionador.convolucionar(mascara_bordes)\n",
    "\n",
    "    mostrar_imagen(imagen_resultante, label_imagen_convolusion)\n",
    "\n",
    "def mostrar_imagen(imagen, label):\n",
    "    imagen_tk = ImageTk.PhotoImage(imagen)\n",
    "    label.configure(image=imagen_tk)\n",
    "    label.image = imagen_tk"
   ]
  },
  {
   "cell_type": "code",
   "execution_count": null,
   "id": "33e13121",
   "metadata": {
    "ExecuteTime": {
     "start_time": "2023-12-04T16:57:53.403Z"
    }
   },
   "outputs": [
    {
     "name": "stderr",
     "output_type": "stream",
     "text": [
      "2023-12-04 10:57:55.925 python[1378:23684] +[CATransaction synchronize] called within transaction\n"
     ]
    }
   ],
   "source": [
    "ventana = tk.Tk()\n",
    "ventana.title(\"Bordes\")\n",
    "\n",
    "boton1 = tk.Button(ventana, text=\"Abrir imagen\", command=abrir_imagen)\n",
    "boton1.grid(column=1, row=0)\n",
    "\n",
    "label_imagen = tk.Label(ventana)\n",
    "label_imagen.grid(row=0, column=0)\n",
    "\n",
    "# Imagen\n",
    "label_imagen_convolusion = tk.Label(ventana)\n",
    "label_imagen_convolusion.grid(row=0, column=2)\n",
    "\n",
    "# Div\n",
    "div = tk.Entry(ventana)\n",
    "div.grid(column=0, row=1)\n",
    "label = tk.Label(ventana, text=\"Div\")\n",
    "label.grid(column=0, row=2)\n",
    "\n",
    "# Offset\n",
    "offset = tk.Entry(ventana)\n",
    "offset.grid(column=2, row=1)\n",
    "label = tk.Label(ventana, text=\"Offset\")\n",
    "label.grid(column=2, row=2)\n",
    "\n",
    "boton2 = tk.Button(ventana, text=\"Convolusión\", command=obtener_valores_y_aplicar_convolusion)\n",
    "boton2.grid(column=1, row=2)\n",
    "\n",
    "ventana.mainloop()"
   ]
  },
  {
   "cell_type": "code",
   "execution_count": null,
   "id": "f502cced",
   "metadata": {},
   "outputs": [],
   "source": []
  }
 ],
 "metadata": {
  "kernelspec": {
   "display_name": "Python 3 (ipykernel)",
   "language": "python",
   "name": "python3"
  },
  "language_info": {
   "codemirror_mode": {
    "name": "ipython",
    "version": 3
   },
   "file_extension": ".py",
   "mimetype": "text/x-python",
   "name": "python",
   "nbconvert_exporter": "python",
   "pygments_lexer": "ipython3",
   "version": "3.11.5"
  },
  "toc": {
   "base_numbering": 1,
   "nav_menu": {},
   "number_sections": true,
   "sideBar": true,
   "skip_h1_title": false,
   "title_cell": "Table of Contents",
   "title_sidebar": "Contents",
   "toc_cell": true,
   "toc_position": {
    "height": "calc(100% - 180px)",
    "left": "10px",
    "top": "150px",
    "width": "369px"
   },
   "toc_section_display": true,
   "toc_window_display": true
  },
  "varInspector": {
   "cols": {
    "lenName": 16,
    "lenType": 16,
    "lenVar": 40
   },
   "kernels_config": {
    "python": {
     "delete_cmd_postfix": "",
     "delete_cmd_prefix": "del ",
     "library": "var_list.py",
     "varRefreshCmd": "print(var_dic_list())"
    },
    "r": {
     "delete_cmd_postfix": ") ",
     "delete_cmd_prefix": "rm(",
     "library": "var_list.r",
     "varRefreshCmd": "cat(var_dic_list()) "
    }
   },
   "oldHeight": 122,
   "position": {
    "height": "144px",
    "left": "1564px",
    "right": "20px",
    "top": "211px",
    "width": "350px"
   },
   "types_to_exclude": [
    "module",
    "function",
    "builtin_function_or_method",
    "instance",
    "_Feature"
   ],
   "varInspector_section_display": "block",
   "window_display": false
  }
 },
 "nbformat": 4,
 "nbformat_minor": 5
}
